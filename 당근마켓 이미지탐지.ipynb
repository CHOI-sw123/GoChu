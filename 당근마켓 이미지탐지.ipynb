{
 "cells": [
  {
   "cell_type": "code",
   "execution_count": 1,
   "metadata": {},
   "outputs": [],
   "source": [
    "import tensorflow_hub as hub\n",
    "import tensorflow as tf\n",
    "from tensorflow.keras.layers import Dense\n",
    "from tensorflow.keras.models import Sequential\n",
    "from tensorflow.keras.models import load_model"
   ]
  },
  {
   "cell_type": "markdown",
   "metadata": {},
   "source": [
    "모델불러오기"
   ]
  },
  {
   "cell_type": "code",
   "execution_count": 8,
   "metadata": {},
   "outputs": [
    {
     "ename": "OSError",
     "evalue": "SavedModel file does not exist at: ./3차프로젝트/model/imagenet_mobilenet_v2_100_96_feature_vector_4/{saved_model.pbtxt|saved_model.pb}",
     "output_type": "error",
     "traceback": [
      "\u001b[1;31m---------------------------------------------------------------------------\u001b[0m",
      "\u001b[1;31mOSError\u001b[0m                                   Traceback (most recent call last)",
      "\u001b[1;32m<ipython-input-8-c23f57ecb90c>\u001b[0m in \u001b[0;36m<module>\u001b[1;34m\u001b[0m\n\u001b[0;32m      1\u001b[0m \u001b[0mMODEL_DIR\u001b[0m \u001b[1;33m=\u001b[0m \u001b[1;34m\"./3차프로젝트/model/\"\u001b[0m\u001b[1;33m\u001b[0m\u001b[1;33m\u001b[0m\u001b[0m\n\u001b[1;32m----> 2\u001b[1;33m \u001b[0mmodel\u001b[0m \u001b[1;33m=\u001b[0m \u001b[0mload_model\u001b[0m\u001b[1;33m(\u001b[0m\u001b[0mMODEL_DIR\u001b[0m\u001b[1;33m+\u001b[0m\u001b[1;34m\"imagenet_mobilenet_v2_100_96_feature_vector_4\"\u001b[0m\u001b[1;33m)\u001b[0m\u001b[1;33m\u001b[0m\u001b[1;33m\u001b[0m\u001b[0m\n\u001b[0m",
      "\u001b[1;32m~\\anaconda3\\envs\\deep01\\lib\\site-packages\\tensorflow_core\\python\\keras\\saving\\save.py\u001b[0m in \u001b[0;36mload_model\u001b[1;34m(filepath, custom_objects, compile)\u001b[0m\n\u001b[0;32m    147\u001b[0m \u001b[1;33m\u001b[0m\u001b[0m\n\u001b[0;32m    148\u001b[0m   \u001b[1;32mif\u001b[0m \u001b[0misinstance\u001b[0m\u001b[1;33m(\u001b[0m\u001b[0mfilepath\u001b[0m\u001b[1;33m,\u001b[0m \u001b[0msix\u001b[0m\u001b[1;33m.\u001b[0m\u001b[0mstring_types\u001b[0m\u001b[1;33m)\u001b[0m\u001b[1;33m:\u001b[0m\u001b[1;33m\u001b[0m\u001b[1;33m\u001b[0m\u001b[0m\n\u001b[1;32m--> 149\u001b[1;33m     \u001b[0mloader_impl\u001b[0m\u001b[1;33m.\u001b[0m\u001b[0mparse_saved_model\u001b[0m\u001b[1;33m(\u001b[0m\u001b[0mfilepath\u001b[0m\u001b[1;33m)\u001b[0m\u001b[1;33m\u001b[0m\u001b[1;33m\u001b[0m\u001b[0m\n\u001b[0m\u001b[0;32m    150\u001b[0m     \u001b[1;32mreturn\u001b[0m \u001b[0msaved_model_load\u001b[0m\u001b[1;33m.\u001b[0m\u001b[0mload\u001b[0m\u001b[1;33m(\u001b[0m\u001b[0mfilepath\u001b[0m\u001b[1;33m,\u001b[0m \u001b[0mcompile\u001b[0m\u001b[1;33m)\u001b[0m\u001b[1;33m\u001b[0m\u001b[1;33m\u001b[0m\u001b[0m\n\u001b[0;32m    151\u001b[0m \u001b[1;33m\u001b[0m\u001b[0m\n",
      "\u001b[1;32m~\\anaconda3\\envs\\deep01\\lib\\site-packages\\tensorflow_core\\python\\saved_model\\loader_impl.py\u001b[0m in \u001b[0;36mparse_saved_model\u001b[1;34m(export_dir)\u001b[0m\n\u001b[0;32m     81\u001b[0m                   (export_dir,\n\u001b[0;32m     82\u001b[0m                    \u001b[0mconstants\u001b[0m\u001b[1;33m.\u001b[0m\u001b[0mSAVED_MODEL_FILENAME_PBTXT\u001b[0m\u001b[1;33m,\u001b[0m\u001b[1;33m\u001b[0m\u001b[1;33m\u001b[0m\u001b[0m\n\u001b[1;32m---> 83\u001b[1;33m                    constants.SAVED_MODEL_FILENAME_PB))\n\u001b[0m\u001b[0;32m     84\u001b[0m \u001b[1;33m\u001b[0m\u001b[0m\n\u001b[0;32m     85\u001b[0m \u001b[1;33m\u001b[0m\u001b[0m\n",
      "\u001b[1;31mOSError\u001b[0m: SavedModel file does not exist at: ./3차프로젝트/model/imagenet_mobilenet_v2_100_96_feature_vector_4/{saved_model.pbtxt|saved_model.pb}"
     ]
    }
   ],
   "source": [
    "MODEL_DIR = \"./3차프로젝트/model/\"\n",
    "model = load_model(MODEL_DIR+\"imagenet_mobilenet_v2_100_96_feature_vector_4\")"
   ]
  },
  {
   "cell_type": "code",
   "execution_count": 6,
   "metadata": {},
   "outputs": [],
   "source": [
    "model = Sequential([\n",
    "    hub.KerasLayer(\"https://tfhub.dev/google/imagenet/mobilenet_v2_100_96/feature_vector/4\",\n",
    "                   trainable=False)])\n",
    "model.add(Dense(1,activation='softmax'))"
   ]
  },
  {
   "cell_type": "code",
   "execution_count": null,
   "metadata": {},
   "outputs": [],
   "source": [
    "m = tf.keras.Sequential([\n",
    "    hub.KerasLayer(\"https://tfhub.dev/google/imagenet/mobilenet_v2_100_96/feature_vector/4\",\n",
    "                   trainable=False),  # Can be True, see below.\n",
    "    tf.keras.layers.Dense(1028, activation='softmax')\n",
    "]\n",
    "m.build([None, 96, 96, 3])  # Batch input shape."
   ]
  },
  {
   "cell_type": "markdown",
   "metadata": {},
   "source": [
    "활용법을 몰라서 일단 보류 "
   ]
  },
  {
   "cell_type": "code",
   "execution_count": null,
   "metadata": {},
   "outputs": [],
   "source": [
    "CHANNELS = 3 # number of image channels (RGB)\n",
    "\n",
    "def build_graph(hub_module_url, target_image_path):\n",
    "  # Step 1) Prepare pre-trained model for extracting image features.\n",
    "    module = hub.Module(hub_module_url)\n",
    "    height, width = hub.get_expected_image_size(module)\n",
    "\n",
    "  # Copied a method of https://github.com/GoogleCloudPlatform/cloudml-samples/blob/bf0680726/flowers/trainer/model.py#L181\n",
    "  # and fixed for all type images (not only jpeg)\n",
    "    def decode_and_resize(image_str_tensor):\n",
    "        \"\"\"Decodes jpeg string, resizes it and returns a uint8 tensor.\"\"\"\n",
    "        image = tf.image.decode_image(image_str_tensor, channels=CHANNELS)\n",
    "        # Note resize expects a batch_size, but tf_map supresses that index,\n",
    "        # thus we have to expand then squeeze.  Resize returns float32 in the\n",
    "        # range [0, uint8_max]\n",
    "        image = tf.expand_dims(image, 0)\n",
    "        image = tf.image.resize_bilinear(\n",
    "            image, [height, width], align_corners=False)\n",
    "        image = tf.squeeze(image, squeeze_dims=[0])\n",
    "        image = tf.cast(image, dtype=tf.uint8)\n",
    "        return image\n",
    "\n",
    "    def to_img_feature(images):\n",
    "        \"\"\"Extract the feature of image vectors\"\"\"\n",
    "        outputs = module(dict(images=images), signature=\"image_feature_vector\", as_dict=True)\n",
    "        return outputs['default']\n",
    "\n",
    "  # Step 2) Extract image features of the target image.\n",
    "    target_image_bytes = tf.gfile.GFile(target_image_path, 'rb').read()\n",
    "    target_image = tf.constant(target_image_bytes, dtype=tf.string)\n",
    "    target_image = decode_and_resize(target_image)\n",
    "    target_image = tf.image.convert_image_dtype(target_image, dtype=tf.float32)\n",
    "    target_image = tf.expand_dims(target_image, 0)\n",
    "    target_image = to_img_feature(target_image)\n",
    "\n",
    "  # Step 3) Extract image features of input images.\n",
    "    input_byte = tf.placeholder(tf.string, shape=[None])\n",
    "    input_image = tf.map_fn(decode_and_resize, input_byte, back_prop=False, dtype=tf.uint8)\n",
    "    input_image = tf.image.convert_image_dtype(input_image, dtype=tf.float32)\n",
    "    input_image = to_img_feature(input_image)\n",
    "\n",
    "  # Step 4) Compare cosine_similarities of the target image and the input images.\n",
    "    dot = tf.tensordot(target_image, tf.transpose(input_image), 1)\n",
    "    similarity = dot / (tf.norm(target_image, axis=1) * tf.norm(input_image, axis=1))\n",
    "    similarity = tf.reshape(similarity, [-1])\n",
    "  \n",
    "    return input_byte, similarity"
   ]
  },
  {
   "cell_type": "code",
   "execution_count": null,
   "metadata": {},
   "outputs": [],
   "source": [
    "# \n",
    "target_image_url = \"https://d2192bm55jmxp1.cloudfront.net/resize/s/profile/201712/B4CFF0B690BB910AF5CB97A2122E9AEC427DAD810E4E0382B13643C9A8D22A55.jpg\" #@param {type:\"string\"}\n",
    "input_image1_url = \"https://d2192bm55jmxp1.cloudfront.net/resize/s/profile/201706/5b193314eff5f5b90faf9e5600d2c95c0c86c4c154414ea8a69bc26942a37613.jpg\" #@param {type:\"string\"}\n",
    "input_image2_url = \"https://d2192bm55jmxp1.cloudfront.net/resize/s/profile/201803/b15cd493adfd367b6663786ca21c4ecdeba67c859ac628849ebd4c3f7990f92b.jpg\" #@param {type:\"string\"}\n",
    "input_image3_url = \"https://d2192bm55jmxp1.cloudfront.net/resize/s/profile/201804/8d4b782228f43fb859076c41ae69a1920aec1b20154ea059a8e87142b66a9841.jpg\" #@param {type:\"string\"}\n",
    "input_image4_url = \"https://d2192bm55jmxp1.cloudfront.net/resize/s/profile/201803/4D2C44F3BB10CB84D0D6894321ED9C8761BB364786550762DC13B125B4C34361.jpg\" #@param {type:\"string\"}\n",
    "\n",
    "input_image_urls = [input_image1_url, input_image2_url, input_image3_url, input_image4_url]\n",
    "\n",
    "target_img_path = 'target_img.jpg'\n",
    "input_img_paths = []\n",
    "\n",
    "!wget -q {target_image_url} -O {target_img_path}\n",
    "\n",
    "for i, url in enumerate(input_image_urls):\n",
    "    if len(url) > 0:\n",
    "        path = \"input_img%d.jpg\" % i\n",
    "        !wget -q {url} -O {path}\n",
    "        input_img_paths.append(path)"
   ]
  },
  {
   "cell_type": "code",
   "execution_count": null,
   "metadata": {},
   "outputs": [],
   "source": []
  },
  {
   "cell_type": "code",
   "execution_count": null,
   "metadata": {},
   "outputs": [],
   "source": [
    "hub.KerasLayer(\"https://tfhub.dev/google/imagenet/mobilenet_v2_100_96/feature_vector/4\",\n",
    "               trainable=True, arguments=dict(batch_norm_momentum=0.997))"
   ]
  },
  {
   "cell_type": "code",
   "execution_count": null,
   "metadata": {},
   "outputs": [],
   "source": []
  },
  {
   "cell_type": "code",
   "execution_count": null,
   "metadata": {},
   "outputs": [],
   "source": [
    "#"
   ]
  },
  {
   "cell_type": "code",
   "execution_count": null,
   "metadata": {},
   "outputs": [],
   "source": [
    "#signature와 as_dict가 무엇인지 모름. \n",
    "outputs = m(dict(images=img1),\n",
    "             signature=\"image_feature_vector\",\n",
    "             as_dict=True\n",
    "           )\n",
    "target_image = outputs['default']"
   ]
  },
  {
   "cell_type": "code",
   "execution_count": null,
   "metadata": {},
   "outputs": [],
   "source": [
    "outputs = module(dict(images=user_profile_images), signature=\"image_feature_vector\", as_dict=True)\n",
    "input_image = outputs['default']"
   ]
  }
 ],
 "metadata": {
  "kernelspec": {
   "display_name": "Python 3",
   "language": "python",
   "name": "python3"
  },
  "language_info": {
   "codemirror_mode": {
    "name": "ipython",
    "version": 3
   },
   "file_extension": ".py",
   "mimetype": "text/x-python",
   "name": "python",
   "nbconvert_exporter": "python",
   "pygments_lexer": "ipython3",
   "version": "3.7.9"
  }
 },
 "nbformat": 4,
 "nbformat_minor": 4
}
