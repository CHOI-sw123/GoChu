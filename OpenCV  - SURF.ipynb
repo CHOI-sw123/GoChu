{
 "cells": [
  {
   "cell_type": "markdown",
   "metadata": {},
   "source": [
    "# OpenCV 알고리즘 활용한 이미지 유사도 측정"
   ]
  },
  {
   "cell_type": "markdown",
   "metadata": {},
   "source": [
    "### 1. SURF알고리즘 활용한 특징추출"
   ]
  },
  {
   "cell_type": "code",
   "execution_count": 8,
   "metadata": {},
   "outputs": [],
   "source": [
    "import numpy as np\n",
    "import cv2"
   ]
  },
  {
   "cell_type": "code",
   "execution_count": 21,
   "metadata": {
    "scrolled": true
   },
   "outputs": [
    {
     "name": "stdout",
     "output_type": "stream",
     "text": [
      "원본 des : 8\n",
      "Dmatch number : 1\n",
      "Good Number : 1\n",
      "Min Distance: 0, Max distance: 0\n",
      "유사도 : 100.0\n"
     ]
    }
   ],
   "source": [
    "#    # 1. 이미지 가져오기\n",
    "\n",
    "\n",
    "img1 = cv2.imread('./image/kim_ga.jpg')  # 원본 데이터 \n",
    "img2 = cv2.imread('./image/park_ga.jpg') # 원본 데이터 \n",
    "\n",
    "imgray1 = cv2.cvtColor(img1, cv2.COLOR_BGR2GRAY)\n",
    "imgray2 = cv2.cvtColor(img2, cv2.COLOR_BGR2GRAY)\n",
    "res = None\n",
    "\n",
    "#     img2, img3 = None, None\n",
    "    \n",
    "surf = cv2.xfeatures2d.SURF_create() #surf 객체 생성\n",
    "\n",
    "\n",
    "surf.descriptorSize() #특징 추출 메소드 확장 \n",
    "surf.setExtended(True)\n",
    "\n",
    "surf.setHessianThreshold(1000) \n",
    "    \n",
    "    \n",
    "    # 2. 특징 추출 \n",
    "    \n",
    "kp1, des1 = surf.detectAndCompute(img1, None) #특징 추출 \n",
    "kp2, des2 = surf.detectAndCompute(img2, None)\n",
    "\n",
    "    # 3. 이미지 매치 수행 \n",
    "bf = cv2.BFMatcher(cv2.NORM_L2, crossCheck=True)\n",
    "\n",
    "matches = bf.match(des1,des2) # bf를 통한 이미지 특성 매치 \n",
    "                                # 비슷한 코너값? 끼리 매칭 ??\n",
    "\n",
    "# 유사성이 깊은 des를 담을 그릇 생성\n",
    "good_match = []\n",
    "\n",
    "for m in matches:\n",
    "        if m.distance<50:\n",
    "            good_match.append(m)\n",
    "\n",
    "\n",
    "matches = sorted(matches, key=lambda x:x.distance)\n",
    "\n",
    "\n",
    "print(\"원본 des : %d\"%(len(des1)))\n",
    "print(\"Dmatch number : %d\"%(len(matches)))\n",
    "print(\"Good Number : %d\"%(len(good_match)))\n",
    "print(\"Min Distance: %d, Max distance: %d\"%\n",
    "     (matches[0].distance, matches[len(matches)-1].distance))\n",
    "\n",
    "print(\"유사도 : %0.1f\"%(len(good_match)/len(matches)*100))\n",
    "res = cv2.drawMatches(imgray1, kp1, imgray2, kp2, matches[:5],res,\n",
    "                     flags=cv2.DrawMatchesFlags_DRAW_RICH_KEYPOINTS)\n",
    "\n",
    "cv2.imshow('SURF', img2)\n",
    "cv2.waitKey(0)\n",
    "cv2.destroyAllWindows()\n",
    "    \n"
   ]
  },
  {
   "cell_type": "code",
   "execution_count": 15,
   "metadata": {},
   "outputs": [],
   "source": [
    "surf = cv2.xfeatures2d.SURF_create()#surf 객체 생성"
   ]
  },
  {
   "cell_type": "code",
   "execution_count": 16,
   "metadata": {},
   "outputs": [],
   "source": [
    "surf.descriptorSize()\n",
    "surf.setExtended(True)"
   ]
  },
  {
   "cell_type": "code",
   "execution_count": 17,
   "metadata": {},
   "outputs": [
    {
     "data": {
      "text/plain": [
       "128"
      ]
     },
     "execution_count": 17,
     "metadata": {},
     "output_type": "execute_result"
    }
   ],
   "source": [
    "surf.descriptorSize()"
   ]
  },
  {
   "cell_type": "code",
   "execution_count": null,
   "metadata": {},
   "outputs": [],
   "source": []
  }
 ],
 "metadata": {
  "kernelspec": {
   "display_name": "Python 3",
   "language": "python",
   "name": "python3"
  },
  "language_info": {
   "codemirror_mode": {
    "name": "ipython",
    "version": 3
   },
   "file_extension": ".py",
   "mimetype": "text/x-python",
   "name": "python",
   "nbconvert_exporter": "python",
   "pygments_lexer": "ipython3",
   "version": "3.7.9"
  }
 },
 "nbformat": 4,
 "nbformat_minor": 4
}
