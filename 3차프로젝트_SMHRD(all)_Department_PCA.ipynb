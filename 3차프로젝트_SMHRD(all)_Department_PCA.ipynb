{
 "cells": [
  {
   "cell_type": "code",
   "execution_count": 2,
   "metadata": {},
   "outputs": [],
   "source": [
    "#lib import \n",
    "import seaborn as sns\n",
    "from tensorflow.keras.preprocessing.image import ImageDataGenerator\n",
    "import numpy as np\n",
    "import pandas as pd\n",
    "import matplotlib.pyplot as plt\n",
    "import seaborn as sns\n",
    "from sklearn.decomposition import PCA\n",
    "from sklearn import preprocessing\n",
    "from sklearn.preprocessing import StandardScaler, RobustScaler, MinMaxScaler, Normalizer\n",
    "import plotly.express as px \n",
    "from sklearn.metrics.pairwise import euclidean_distances\n",
    "from sklearn.metrics.pairwise import cosine_similarity\n",
    "import cv2\n",
    "import joblib\n",
    "%matplotlib inline"
   ]
  },
  {
   "cell_type": "code",
   "execution_count": 101,
   "metadata": {},
   "outputs": [],
   "source": [
    "# edu_list = [\n",
    "#             'cty',\n",
    "#             'jh',\n",
    "#             'kdw',\n",
    "#             'khj',\n",
    "#             'kmh',\n",
    "#             'kyj',\n",
    "#             'lmh',\n",
    "# #             'pbk',\n",
    "# #             'psh',\n",
    "#             'lks',\n",
    "# #             'nyh',\n",
    "            \n",
    "#            ] #교육\n",
    "\n",
    "# prom_list = ['chs',\n",
    "#              'jyw', \n",
    "#              'kub', \n",
    "#              'ldu '\n",
    "#             ]# 홍보\n",
    "\n",
    "# plan_list = ['ksg',\n",
    "#              'hhd', \n",
    "#              'leb', \n",
    "#              'imj',\n",
    "#              'sjy'\n",
    "#             ] #기획\n",
    "\n",
    "all_list = [\n",
    "            'cty',\n",
    "            'jh',\n",
    "            'kdw',\n",
    "#             'khj',\n",
    "            'kmh',\n",
    "            'kyj',\n",
    "            'lmh',\n",
    "            'pbk',\n",
    "            'psh',\n",
    "            'lks',\n",
    "            'nyh',\n",
    "            'chs',\n",
    "            'jyw', \n",
    "            'kub', \n",
    "#             'ldu',\n",
    "#             'ksg',\n",
    "            'hhd', \n",
    "            'leb', \n",
    "            'imj',\n",
    "            'sjy'\n",
    "]\n",
    "#cjs 확인\n",
    "\n",
    "#파일 경로 \n",
    "teacher_dir = \"./image/ver.7/teacher/\"\n",
    "\n",
    "#이미지 번호 리스트\n",
    "img_num = [\"_0\", \"_1\",\"_2\",\"_3\",\"_4\",\"_5\",\"_6\"]\n"
   ]
  },
  {
   "cell_type": "code",
   "execution_count": 102,
   "metadata": {},
   "outputs": [
    {
     "data": {
      "text/plain": [
       "'jyw'"
      ]
     },
     "execution_count": 102,
     "metadata": {},
     "output_type": "execute_result"
    }
   ],
   "source": [
    "all_list[11]"
   ]
  },
  {
   "cell_type": "code",
   "execution_count": 103,
   "metadata": {},
   "outputs": [
    {
     "data": {
      "text/plain": [
       "17"
      ]
     },
     "execution_count": 103,
     "metadata": {},
     "output_type": "execute_result"
    }
   ],
   "source": [
    "len(all_list)"
   ]
  },
  {
   "cell_type": "code",
   "execution_count": 104,
   "metadata": {},
   "outputs": [],
   "source": [
    "# 파일 기본 경로 all_1~6\n",
    "#교육(all) 이미지 불러오기\n",
    "all0_1 = cv2.imread(teacher_dir+all_list[0]+img_num[1]+\".jpg\", cv2.IMREAD_GRAYSCALE) #1\n",
    "all0_2 = cv2.imread(teacher_dir+all_list[0]+img_num[2]+\".jpg\", cv2.IMREAD_GRAYSCALE)\n",
    "all0_3 = cv2.imread(teacher_dir+all_list[0]+img_num[3]+\".jpg\", cv2.IMREAD_GRAYSCALE)\n",
    "all0_4 = cv2.imread(teacher_dir+all_list[0]+img_num[4]+\".jpg\", cv2.IMREAD_GRAYSCALE)\n",
    "all0_5 = cv2.imread(teacher_dir+all_list[0]+img_num[5]+\".jpg\", cv2.IMREAD_GRAYSCALE)\n",
    "all0_6 = cv2.imread(teacher_dir+all_list[0]+img_num[6]+\".jpg\", cv2.IMREAD_GRAYSCALE)\n",
    "\n",
    "all1_1 = cv2.imread(teacher_dir+all_list[1]+img_num[1]+\".jpg\", cv2.IMREAD_GRAYSCALE) #2\n",
    "all1_2 = cv2.imread(teacher_dir+all_list[1]+img_num[2]+\".jpg\", cv2.IMREAD_GRAYSCALE)\n",
    "all1_3 = cv2.imread(teacher_dir+all_list[1]+img_num[3]+\".jpg\", cv2.IMREAD_GRAYSCALE)\n",
    "all1_4 = cv2.imread(teacher_dir+all_list[1]+img_num[4]+\".jpg\", cv2.IMREAD_GRAYSCALE)\n",
    "all1_5 = cv2.imread(teacher_dir+all_list[1]+img_num[5]+\".jpg\", cv2.IMREAD_GRAYSCALE)\n",
    "all1_6 = cv2.imread(teacher_dir+all_list[1]+img_num[6]+\".jpg\", cv2.IMREAD_GRAYSCALE)\n",
    "\n",
    "all2_1 = cv2.imread(teacher_dir+all_list[2]+img_num[1]+\".jpg\", cv2.IMREAD_GRAYSCALE) #3\n",
    "all2_2 = cv2.imread(teacher_dir+all_list[2]+img_num[2]+\".jpg\", cv2.IMREAD_GRAYSCALE)\n",
    "all2_3 = cv2.imread(teacher_dir+all_list[2]+img_num[3]+\".jpg\", cv2.IMREAD_GRAYSCALE)\n",
    "all2_4 = cv2.imread(teacher_dir+all_list[2]+img_num[4]+\".jpg\", cv2.IMREAD_GRAYSCALE)\n",
    "all2_5 = cv2.imread(teacher_dir+all_list[2]+img_num[5]+\".jpg\", cv2.IMREAD_GRAYSCALE)\n",
    "all2_6 = cv2.imread(teacher_dir+all_list[2]+img_num[6]+\".jpg\", cv2.IMREAD_GRAYSCALE)\n",
    "\n",
    "all3_1 = cv2.imread(teacher_dir+all_list[3]+img_num[1]+\".jpg\", cv2.IMREAD_GRAYSCALE) #4\n",
    "all3_2 = cv2.imread(teacher_dir+all_list[3]+img_num[2]+\".jpg\", cv2.IMREAD_GRAYSCALE)\n",
    "all3_3 = cv2.imread(teacher_dir+all_list[3]+img_num[3]+\".jpg\", cv2.IMREAD_GRAYSCALE)\n",
    "all3_4 = cv2.imread(teacher_dir+all_list[3]+img_num[4]+\".jpg\", cv2.IMREAD_GRAYSCALE)\n",
    "all3_5 = cv2.imread(teacher_dir+all_list[3]+img_num[5]+\".jpg\", cv2.IMREAD_GRAYSCALE)\n",
    "all3_6 = cv2.imread(teacher_dir+all_list[3]+img_num[6]+\".jpg\", cv2.IMREAD_GRAYSCALE)\n",
    "\n",
    "all4_1 = cv2.imread(teacher_dir+all_list[4]+img_num[1]+\".jpg\", cv2.IMREAD_GRAYSCALE) #5\n",
    "all4_2 = cv2.imread(teacher_dir+all_list[4]+img_num[2]+\".jpg\", cv2.IMREAD_GRAYSCALE)\n",
    "all4_3 = cv2.imread(teacher_dir+all_list[4]+img_num[3]+\".jpg\", cv2.IMREAD_GRAYSCALE)\n",
    "all4_4 = cv2.imread(teacher_dir+all_list[4]+img_num[4]+\".jpg\", cv2.IMREAD_GRAYSCALE)\n",
    "all4_5 = cv2.imread(teacher_dir+all_list[4]+img_num[5]+\".jpg\", cv2.IMREAD_GRAYSCALE)\n",
    "all4_6 = cv2.imread(teacher_dir+all_list[4]+img_num[6]+\".jpg\", cv2.IMREAD_GRAYSCALE)\n",
    "\n",
    "all5_1 = cv2.imread(teacher_dir+all_list[5]+img_num[1]+\".jpg\", cv2.IMREAD_GRAYSCALE) #6\n",
    "all5_2 = cv2.imread(teacher_dir+all_list[5]+img_num[2]+\".jpg\", cv2.IMREAD_GRAYSCALE)\n",
    "all5_3 = cv2.imread(teacher_dir+all_list[5]+img_num[3]+\".jpg\", cv2.IMREAD_GRAYSCALE)\n",
    "all5_4 = cv2.imread(teacher_dir+all_list[5]+img_num[4]+\".jpg\", cv2.IMREAD_GRAYSCALE)\n",
    "all5_5 = cv2.imread(teacher_dir+all_list[5]+img_num[5]+\".jpg\", cv2.IMREAD_GRAYSCALE)\n",
    "all5_6 = cv2.imread(teacher_dir+all_list[5]+img_num[6]+\".jpg\", cv2.IMREAD_GRAYSCALE)\n",
    "\n",
    "all6_1 = cv2.imread(teacher_dir+all_list[6]+img_num[1]+\".jpg\", cv2.IMREAD_GRAYSCALE) #7\n",
    "all6_2 = cv2.imread(teacher_dir+all_list[6]+img_num[2]+\".jpg\", cv2.IMREAD_GRAYSCALE)\n",
    "all6_3 = cv2.imread(teacher_dir+all_list[6]+img_num[3]+\".jpg\", cv2.IMREAD_GRAYSCALE)\n",
    "all6_4 = cv2.imread(teacher_dir+all_list[6]+img_num[4]+\".jpg\", cv2.IMREAD_GRAYSCALE)\n",
    "all6_5 = cv2.imread(teacher_dir+all_list[6]+img_num[5]+\".jpg\", cv2.IMREAD_GRAYSCALE)\n",
    "all6_6 = cv2.imread(teacher_dir+all_list[6]+img_num[6]+\".jpg\", cv2.IMREAD_GRAYSCALE)\n",
    "\n",
    "all7_1 = cv2.imread(teacher_dir+all_list[7]+img_num[1]+\".jpg\", cv2.IMREAD_GRAYSCALE) #8\n",
    "all7_2 = cv2.imread(teacher_dir+all_list[7]+img_num[2]+\".jpg\", cv2.IMREAD_GRAYSCALE)\n",
    "all7_3 = cv2.imread(teacher_dir+all_list[7]+img_num[3]+\".jpg\", cv2.IMREAD_GRAYSCALE)\n",
    "all7_4 = cv2.imread(teacher_dir+all_list[7]+img_num[4]+\".jpg\", cv2.IMREAD_GRAYSCALE)\n",
    "all7_5 = cv2.imread(teacher_dir+all_list[7]+img_num[5]+\".jpg\", cv2.IMREAD_GRAYSCALE)\n",
    "all7_6 = cv2.imread(teacher_dir+all_list[7]+img_num[6]+\".jpg\", cv2.IMREAD_GRAYSCALE)\n",
    "\n",
    "all8_1 = cv2.imread(teacher_dir+all_list[8]+img_num[1]+\".jpg\", cv2.IMREAD_GRAYSCALE) #9\n",
    "all8_2 = cv2.imread(teacher_dir+all_list[8]+img_num[2]+\".jpg\", cv2.IMREAD_GRAYSCALE)\n",
    "all8_3 = cv2.imread(teacher_dir+all_list[8]+img_num[3]+\".jpg\", cv2.IMREAD_GRAYSCALE)\n",
    "all8_4 = cv2.imread(teacher_dir+all_list[8]+img_num[4]+\".jpg\", cv2.IMREAD_GRAYSCALE)\n",
    "all8_5 = cv2.imread(teacher_dir+all_list[8]+img_num[5]+\".jpg\", cv2.IMREAD_GRAYSCALE)\n",
    "all8_6 = cv2.imread(teacher_dir+all_list[8]+img_num[6]+\".jpg\", cv2.IMREAD_GRAYSCALE)\n",
    "\n",
    "all9_1 = cv2.imread(teacher_dir+all_list[9]+img_num[1]+\".jpg\", cv2.IMREAD_GRAYSCALE) #10\n",
    "all9_2 = cv2.imread(teacher_dir+all_list[9]+img_num[2]+\".jpg\", cv2.IMREAD_GRAYSCALE)\n",
    "all9_3 = cv2.imread(teacher_dir+all_list[9]+img_num[3]+\".jpg\", cv2.IMREAD_GRAYSCALE)\n",
    "all9_4 = cv2.imread(teacher_dir+all_list[9]+img_num[4]+\".jpg\", cv2.IMREAD_GRAYSCALE)\n",
    "all9_5 = cv2.imread(teacher_dir+all_list[9]+img_num[5]+\".jpg\", cv2.IMREAD_GRAYSCALE)\n",
    "all9_6 = cv2.imread(teacher_dir+all_list[9]+img_num[6]+\".jpg\", cv2.IMREAD_GRAYSCALE)\n",
    "\n",
    "all10_1 = cv2.imread(teacher_dir+all_list[10]+img_num[1]+\".jpg\", cv2.IMREAD_GRAYSCALE) #11\n",
    "all10_2 = cv2.imread(teacher_dir+all_list[10]+img_num[2]+\".jpg\", cv2.IMREAD_GRAYSCALE)\n",
    "all10_3 = cv2.imread(teacher_dir+all_list[10]+img_num[3]+\".jpg\", cv2.IMREAD_GRAYSCALE)\n",
    "all10_4 = cv2.imread(teacher_dir+all_list[10]+img_num[4]+\".jpg\", cv2.IMREAD_GRAYSCALE)\n",
    "all10_5 = cv2.imread(teacher_dir+all_list[10]+img_num[5]+\".jpg\", cv2.IMREAD_GRAYSCALE)\n",
    "all10_6 = cv2.imread(teacher_dir+all_list[10]+img_num[6]+\".jpg\", cv2.IMREAD_GRAYSCALE)\n",
    "\n",
    "all11_1 = cv2.imread(teacher_dir+all_list[11]+img_num[1]+\".jpg\", cv2.IMREAD_GRAYSCALE) #12\n",
    "all11_2 = cv2.imread(teacher_dir+all_list[11]+img_num[2]+\".jpg\", cv2.IMREAD_GRAYSCALE)\n",
    "all11_3 = cv2.imread(teacher_dir+all_list[11]+img_num[3]+\".jpg\", cv2.IMREAD_GRAYSCALE)\n",
    "all11_4 = cv2.imread(teacher_dir+all_list[11]+img_num[4]+\".jpg\", cv2.IMREAD_GRAYSCALE)\n",
    "all11_5 = cv2.imread(teacher_dir+all_list[11]+img_num[5]+\".jpg\", cv2.IMREAD_GRAYSCALE)\n",
    "all11_6 = cv2.imread(teacher_dir+all_list[11]+img_num[6]+\".jpg\", cv2.IMREAD_GRAYSCALE)\n",
    "\n",
    "all12_1 = cv2.imread(teacher_dir+all_list[12]+img_num[1]+\".jpg\", cv2.IMREAD_GRAYSCALE) #13\n",
    "all12_2 = cv2.imread(teacher_dir+all_list[12]+img_num[2]+\".jpg\", cv2.IMREAD_GRAYSCALE)\n",
    "all12_3 = cv2.imread(teacher_dir+all_list[12]+img_num[3]+\".jpg\", cv2.IMREAD_GRAYSCALE)\n",
    "all12_4 = cv2.imread(teacher_dir+all_list[12]+img_num[4]+\".jpg\", cv2.IMREAD_GRAYSCALE)\n",
    "all12_5 = cv2.imread(teacher_dir+all_list[12]+img_num[5]+\".jpg\", cv2.IMREAD_GRAYSCALE)\n",
    "all12_6 = cv2.imread(teacher_dir+all_list[12]+img_num[6]+\".jpg\", cv2.IMREAD_GRAYSCALE)\n",
    "\n",
    "all13_1 = cv2.imread(teacher_dir+all_list[13]+img_num[1]+\".jpg\", cv2.IMREAD_GRAYSCALE) #14\n",
    "all13_2 = cv2.imread(teacher_dir+all_list[13]+img_num[2]+\".jpg\", cv2.IMREAD_GRAYSCALE)\n",
    "all13_3 = cv2.imread(teacher_dir+all_list[13]+img_num[3]+\".jpg\", cv2.IMREAD_GRAYSCALE)\n",
    "all13_4 = cv2.imread(teacher_dir+all_list[13]+img_num[4]+\".jpg\", cv2.IMREAD_GRAYSCALE)\n",
    "all13_5 = cv2.imread(teacher_dir+all_list[13]+img_num[5]+\".jpg\", cv2.IMREAD_GRAYSCALE)\n",
    "all13_6 = cv2.imread(teacher_dir+all_list[13]+img_num[6]+\".jpg\", cv2.IMREAD_GRAYSCALE)\n",
    "\n",
    "all14_1 = cv2.imread(teacher_dir+all_list[14]+img_num[1]+\".jpg\", cv2.IMREAD_GRAYSCALE) #15\n",
    "all14_2 = cv2.imread(teacher_dir+all_list[14]+img_num[2]+\".jpg\", cv2.IMREAD_GRAYSCALE)\n",
    "all14_3 = cv2.imread(teacher_dir+all_list[14]+img_num[3]+\".jpg\", cv2.IMREAD_GRAYSCALE)\n",
    "all14_4 = cv2.imread(teacher_dir+all_list[14]+img_num[4]+\".jpg\", cv2.IMREAD_GRAYSCALE)\n",
    "all14_5 = cv2.imread(teacher_dir+all_list[14]+img_num[5]+\".jpg\", cv2.IMREAD_GRAYSCALE)\n",
    "all14_6 = cv2.imread(teacher_dir+all_list[14]+img_num[6]+\".jpg\", cv2.IMREAD_GRAYSCALE)\n",
    "\n",
    "all15_1 = cv2.imread(teacher_dir+all_list[15]+img_num[1]+\".jpg\", cv2.IMREAD_GRAYSCALE) #16\n",
    "all15_2 = cv2.imread(teacher_dir+all_list[15]+img_num[2]+\".jpg\", cv2.IMREAD_GRAYSCALE)\n",
    "all15_3 = cv2.imread(teacher_dir+all_list[15]+img_num[3]+\".jpg\", cv2.IMREAD_GRAYSCALE)\n",
    "all15_4 = cv2.imread(teacher_dir+all_list[15]+img_num[4]+\".jpg\", cv2.IMREAD_GRAYSCALE)\n",
    "all15_5 = cv2.imread(teacher_dir+all_list[15]+img_num[5]+\".jpg\", cv2.IMREAD_GRAYSCALE)\n",
    "all15_6 = cv2.imread(teacher_dir+all_list[15]+img_num[6]+\".jpg\", cv2.IMREAD_GRAYSCALE)\n",
    "\n",
    "all16_1 = cv2.imread(teacher_dir+all_list[16]+img_num[1]+\".jpg\", cv2.IMREAD_GRAYSCALE) #17\n",
    "all16_2 = cv2.imread(teacher_dir+all_list[16]+img_num[2]+\".jpg\", cv2.IMREAD_GRAYSCALE)\n",
    "all16_3 = cv2.imread(teacher_dir+all_list[16]+img_num[3]+\".jpg\", cv2.IMREAD_GRAYSCALE)\n",
    "all16_4 = cv2.imread(teacher_dir+all_list[16]+img_num[4]+\".jpg\", cv2.IMREAD_GRAYSCALE)\n",
    "all16_5 = cv2.imread(teacher_dir+all_list[16]+img_num[5]+\".jpg\", cv2.IMREAD_GRAYSCALE)\n",
    "all16_6 = cv2.imread(teacher_dir+all_list[16]+img_num[6]+\".jpg\", cv2.IMREAD_GRAYSCALE)\n",
    "\n",
    "# all17_1 = cv2.imread(teacher_dir+all_list[17]+img_num[1]+\".jpg\", cv2.IMREAD_GRAYSCALE)\n",
    "# all17_2 = cv2.imread(teacher_dir+all_list[17]+img_num[2]+\".jpg\", cv2.IMREAD_GRAYSCALE)\n",
    "# all17_3 = cv2.imread(teacher_dir+all_list[17]+img_num[3]+\".jpg\", cv2.IMREAD_GRAYSCALE)\n",
    "# all17_4 = cv2.imread(teacher_dir+all_list[17]+img_num[4]+\".jpg\", cv2.IMREAD_GRAYSCALE)\n",
    "# all17_5 = cv2.imread(teacher_dir+all_list[17]+img_num[5]+\".jpg\", cv2.IMREAD_GRAYSCALE)\n",
    "# all17_6 = cv2.imread(teacher_dir+all_list[17]+img_num[6]+\".jpg\", cv2.IMREAD_GRAYSCALE)\n",
    "\n",
    "# all7_1 = cv2.imread(teacher_dir+all_list[7]+img_num[1]+\".jpg\", cv2.IMREAD_GRAYSCALE)\n",
    "# all7_2 = cv2.imread(teacher_dir+all_list[7]+img_num[2]+\".jpg\", cv2.IMREAD_GRAYSCALE)\n",
    "# all7_3 = cv2.imread(teacher_dir+all_list[7]+img_num[3]+\".jpg\", cv2.IMREAD_GRAYSCALE)\n",
    "# all7_4 = cv2.imread(teacher_dir+all_list[7]+img_num[4]+\".jpg\", cv2.IMREAD_GRAYSCALE)\n",
    "# all7_5 = cv2.imread(teacher_dir+all_list[7]+img_num[5]+\".jpg\", cv2.IMREAD_GRAYSCALE)\n",
    "# all7_6 = cv2.imread(teacher_dir+all_list[7]+img_num[6]+\".jpg\", cv2.IMREAD_GRAYSCALE)\n",
    "\n",
    "# all8_1 = cv2.imread(teacher_dir+all_list[8]+img_num[1]+\".jpg\", cv2.IMREAD_GRAYSCALE)\n",
    "# all8_2 = cv2.imread(teacher_dir+all_list[8]+img_num[2]+\".jpg\", cv2.IMREAD_GRAYSCALE)\n",
    "# all8_3 = cv2.imread(teacher_dir+all_list[8]+img_num[3]+\".jpg\", cv2.IMREAD_GRAYSCALE)\n",
    "# all8_4 = cv2.imread(teacher_dir+all_list[8]+img_num[4]+\".jpg\", cv2.IMREAD_GRAYSCALE)\n",
    "# all8_5 = cv2.imread(teacher_dir+all_list[8]+img_num[5]+\".jpg\", cv2.IMREAD_GRAYSCALE)\n",
    "# all8_6 = cv2.imread(teacher_dir+all_list[8]+img_num[6]+\".jpg\", cv2.IMREAD_GRAYSCALE)\n",
    "\n",
    "# all9_1 = cv2.imread(teacher_dir+all_list[9]+img_num[1]+\".jpg\", cv2.IMREAD_GRAYSCALE)\n",
    "# all9_2 = cv2.imread(teacher_dir+all_list[9]+img_num[2]+\".jpg\", cv2.IMREAD_GRAYSCALE)\n",
    "# all9_3 = cv2.imread(teacher_dir+all_list[9]+img_num[3]+\".jpg\", cv2.IMREAD_GRAYSCALE)\n",
    "# all9_4 = cv2.imread(teacher_dir+all_list[9]+img_num[4]+\".jpg\", cv2.IMREAD_GRAYSCALE)\n",
    "# all9_5 = cv2.imread(teacher_dir+all_list[9]+img_num[5]+\".jpg\", cv2.IMREAD_GRAYSCALE)\n",
    "# all9_6 = cv2.imread(teacher_dir+all_list[9]+img_num[6]+\".jpg\", cv2.IMREAD_GRAYSCALE)\n",
    "\n",
    "# all10_1 = cv2.imread(teacher_dir+all_list[10]+img_num[1]+\".jpg\", cv2.IMREAD_GRAYSCALE)\n",
    "# all10_2 = cv2.imread(teacher_dir+all_list[10]+img_num[2]+\".jpg\", cv2.IMREAD_GRAYSCALE)\n",
    "# all10_3 = cv2.imread(teacher_dir+all_list[10]+img_num[3]+\".jpg\", cv2.IMREAD_GRAYSCALE)\n",
    "# all10_4 = cv2.imread(teacher_dir+all_list[10]+img_num[4]+\".jpg\", cv2.IMREAD_GRAYSCALE)\n",
    "# all10_5 = cv2.imread(teacher_dir+all_list[10]+img_num[5]+\".jpg\", cv2.IMREAD_GRAYSCALE)\n",
    "# all10_6 = cv2.imread(teacher_dir+all_list[10]+img_num[6]+\".jpg\", cv2.IMREAD_GRAYSCALE)\n",
    "\n",
    "\n",
    "#교육(all) 스케일링\n",
    "scaled_all0_1 = preprocessing.scale(all0_1.T) #1\n",
    "scaled_all0_2 = preprocessing.scale(all0_2.T)\n",
    "scaled_all0_3 = preprocessing.scale(all0_3.T)\n",
    "scaled_all0_4 = preprocessing.scale(all0_4.T)\n",
    "scaled_all0_5 = preprocessing.scale(all0_5.T)\n",
    "scaled_all0_6 = preprocessing.scale(all0_6.T)\n",
    "\n",
    "scaled_all1_1 = preprocessing.scale(all1_1.T) #2\n",
    "scaled_all1_2 = preprocessing.scale(all1_2.T)\n",
    "scaled_all1_3 = preprocessing.scale(all1_3.T)\n",
    "scaled_all1_4 = preprocessing.scale(all1_4.T)\n",
    "scaled_all1_5 = preprocessing.scale(all1_5.T)\n",
    "scaled_all1_6 = preprocessing.scale(all1_6.T)\n",
    "\n",
    "scaled_all2_1 = preprocessing.scale(all2_1.T) #3\n",
    "scaled_all2_2 = preprocessing.scale(all2_2.T)\n",
    "scaled_all2_3 = preprocessing.scale(all2_3.T)\n",
    "scaled_all2_4 = preprocessing.scale(all2_4.T)\n",
    "scaled_all2_5 = preprocessing.scale(all2_5.T)\n",
    "scaled_all2_6 = preprocessing.scale(all2_6.T)\n",
    "\n",
    "scaled_all3_1 = preprocessing.scale(all3_1.T) #4\n",
    "scaled_all3_2 = preprocessing.scale(all3_2.T)\n",
    "scaled_all3_3 = preprocessing.scale(all3_3.T)\n",
    "scaled_all3_4 = preprocessing.scale(all3_4.T)\n",
    "scaled_all3_5 = preprocessing.scale(all3_5.T)\n",
    "scaled_all3_6 = preprocessing.scale(all3_6.T)\n",
    "\n",
    "scaled_all4_1 = preprocessing.scale(all4_1.T) #5\n",
    "scaled_all4_2 = preprocessing.scale(all4_2.T)\n",
    "scaled_all4_3 = preprocessing.scale(all4_3.T)\n",
    "scaled_all4_4 = preprocessing.scale(all4_4.T)\n",
    "scaled_all4_5 = preprocessing.scale(all4_5.T)\n",
    "scaled_all4_6 = preprocessing.scale(all4_6.T)\n",
    "\n",
    "scaled_all5_1 = preprocessing.scale(all5_1.T) #6\n",
    "scaled_all5_2 = preprocessing.scale(all5_2.T)\n",
    "scaled_all5_3 = preprocessing.scale(all5_3.T)\n",
    "scaled_all5_4 = preprocessing.scale(all5_4.T)\n",
    "scaled_all5_5 = preprocessing.scale(all5_5.T)\n",
    "scaled_all5_6 = preprocessing.scale(all5_6.T)\n",
    "\n",
    "scaled_all6_1 = preprocessing.scale(all6_1.T) #7\n",
    "scaled_all6_2 = preprocessing.scale(all6_2.T)\n",
    "scaled_all6_3 = preprocessing.scale(all6_3.T)\n",
    "scaled_all6_4 = preprocessing.scale(all6_4.T)\n",
    "scaled_all6_5 = preprocessing.scale(all6_5.T)\n",
    "scaled_all6_6 = preprocessing.scale(all6_6.T)\n",
    "\n",
    "scaled_all7_1 = preprocessing.scale(all7_1.T) #8\n",
    "scaled_all7_2 = preprocessing.scale(all7_2.T)\n",
    "scaled_all7_3 = preprocessing.scale(all7_3.T)\n",
    "scaled_all7_4 = preprocessing.scale(all7_4.T)\n",
    "scaled_all7_5 = preprocessing.scale(all7_5.T)\n",
    "scaled_all7_6 = preprocessing.scale(all7_6.T)\n",
    "\n",
    "scaled_all8_1 = preprocessing.scale(all8_1.T) #9\n",
    "scaled_all8_2 = preprocessing.scale(all8_2.T)\n",
    "scaled_all8_3 = preprocessing.scale(all8_3.T)\n",
    "scaled_all8_4 = preprocessing.scale(all8_4.T)\n",
    "scaled_all8_5 = preprocessing.scale(all8_5.T)\n",
    "scaled_all8_6 = preprocessing.scale(all8_6.T)\n",
    "\n",
    "scaled_all9_1 = preprocessing.scale(all9_1.T) #10\n",
    "scaled_all9_2 = preprocessing.scale(all9_2.T)\n",
    "scaled_all9_3 = preprocessing.scale(all9_3.T)\n",
    "scaled_all9_4 = preprocessing.scale(all9_4.T)\n",
    "scaled_all9_5 = preprocessing.scale(all9_5.T)\n",
    "scaled_all9_6 = preprocessing.scale(all9_6.T)\n",
    "\n",
    "scaled_all10_1 = preprocessing.scale(all10_1.T) #11\n",
    "scaled_all10_2 = preprocessing.scale(all10_2.T)\n",
    "scaled_all10_3 = preprocessing.scale(all10_3.T)\n",
    "scaled_all10_4 = preprocessing.scale(all10_4.T)\n",
    "scaled_all10_5 = preprocessing.scale(all10_5.T)\n",
    "scaled_all10_6 = preprocessing.scale(all10_6.T)\n",
    "\n",
    "scaled_all11_1 = preprocessing.scale(all11_1.T) #12\n",
    "scaled_all11_2 = preprocessing.scale(all11_2.T)\n",
    "scaled_all11_3 = preprocessing.scale(all11_3.T)\n",
    "scaled_all11_4 = preprocessing.scale(all11_4.T)\n",
    "scaled_all11_5 = preprocessing.scale(all11_5.T)\n",
    "scaled_all11_6 = preprocessing.scale(all11_6.T)\n",
    "\n",
    "scaled_all12_1 = preprocessing.scale(all12_1.T) #13\n",
    "scaled_all12_2 = preprocessing.scale(all12_2.T)\n",
    "scaled_all12_3 = preprocessing.scale(all12_3.T)\n",
    "scaled_all12_4 = preprocessing.scale(all12_4.T)\n",
    "scaled_all12_5 = preprocessing.scale(all12_5.T)\n",
    "scaled_all12_6 = preprocessing.scale(all12_6.T)\n",
    "\n",
    "scaled_all13_1 = preprocessing.scale(all13_1.T) #14\n",
    "scaled_all13_2 = preprocessing.scale(all13_2.T)\n",
    "scaled_all13_3 = preprocessing.scale(all13_3.T)\n",
    "scaled_all13_4 = preprocessing.scale(all13_4.T)\n",
    "scaled_all13_5 = preprocessing.scale(all13_5.T)\n",
    "scaled_all13_6 = preprocessing.scale(all13_6.T)\n",
    "\n",
    "scaled_all14_1 = preprocessing.scale(all14_1.T) #15\n",
    "scaled_all14_2 = preprocessing.scale(all14_2.T)\n",
    "scaled_all14_3 = preprocessing.scale(all14_3.T)\n",
    "scaled_all14_4 = preprocessing.scale(all14_4.T)\n",
    "scaled_all14_5 = preprocessing.scale(all14_5.T)\n",
    "scaled_all14_6 = preprocessing.scale(all14_6.T)\n",
    "\n",
    "scaled_all15_1 = preprocessing.scale(all15_1.T) #16\n",
    "scaled_all15_2 = preprocessing.scale(all15_2.T)\n",
    "scaled_all15_3 = preprocessing.scale(all15_3.T)\n",
    "scaled_all15_4 = preprocessing.scale(all15_4.T)\n",
    "scaled_all15_5 = preprocessing.scale(all15_5.T)\n",
    "scaled_all15_6 = preprocessing.scale(all15_6.T)\n",
    "\n",
    "scaled_all16_1 = preprocessing.scale(all16_1.T) #17\n",
    "scaled_all16_2 = preprocessing.scale(all16_2.T)\n",
    "scaled_all16_3 = preprocessing.scale(all16_3.T)\n",
    "scaled_all16_4 = preprocessing.scale(all16_4.T)\n",
    "scaled_all16_5 = preprocessing.scale(all16_5.T)\n",
    "scaled_all16_6 = preprocessing.scale(all16_6.T)\n",
    "\n",
    "# scaled_all17_1 = preprocessing.scale(all17_1.T) #18\n",
    "# scaled_all17_2 = preprocessing.scale(all17_2.T)\n",
    "# scaled_all17_3 = preprocessing.scale(all17_3.T)\n",
    "# scaled_all17_4 = preprocessing.scale(all17_4.T)\n",
    "# scaled_all17_5 = preprocessing.scale(all17_5.T)\n",
    "# scaled_all17_6 = preprocessing.scale(all17_6.T)\n",
    "\n",
    "# scaled_all7_1 = preprocessing.scale(all7_1.T) #19\n",
    "# scaled_all7_2 = preprocessing.scale(all7_2.T)\n",
    "# scaled_all7_3 = preprocessing.scale(all7_3.T)\n",
    "# scaled_all7_4 = preprocessing.scale(all7_4.T)\n",
    "# scaled_all7_5 = preprocessing.scale(all7_5.T)\n",
    "# scaled_all7_6 = preprocessing.scale(all7_6.T)\n",
    "\n",
    "# scaled_all8_1 = preprocessing.scale(all8_1.T) #20\n",
    "# scaled_all8_2 = preprocessing.scale(all8_2.T)\n",
    "# scaled_all8_3 = preprocessing.scale(all8_3.T)\n",
    "# scaled_all8_4 = preprocessing.scale(all8_4.T)\n",
    "# scaled_all8_5 = preprocessing.scale(all8_5.T)\n",
    "# scaled_all8_6 = preprocessing.scale(all8_6.T)\n",
    "\n",
    "\n",
    "\n",
    "# plt.figure(figsize=(25,10))\n",
    "# plt.subplot(3,2,1)\n",
    "# plt.imshow(all10_1, cmap='gray')\n",
    "# plt.subplot(3,2,2)\n",
    "# plt.imshow(all10_2, cmap='gray')\n",
    "# plt.subplot(3,2,3)\n",
    "# plt.imshow(all10_3, cmap='gray')\n",
    "# plt.subplot(3,2,4)\n",
    "# plt.imshow(all10_4, cmap='gray')\n",
    "# plt.subplot(3,2,5)\n",
    "# plt.imshow(all10_5, cmap='gray')\n",
    "# plt.subplot(3,2,6)\n",
    "# plt.imshow(all10_6, cmap='gray')\n",
    "# plt.show()"
   ]
  },
  {
   "cell_type": "code",
   "execution_count": 105,
   "metadata": {},
   "outputs": [],
   "source": [
    "#교육부서\n",
    "all_dept = np.array([\n",
    "                    scaled_all0_1,scaled_all0_2, scaled_all0_3, scaled_all0_4, scaled_all0_5, scaled_all0_6,\n",
    "                    scaled_all1_1,scaled_all1_2, scaled_all1_3, scaled_all1_4, scaled_all1_5, scaled_all1_6,\n",
    "                    scaled_all2_1,scaled_all2_2, scaled_all2_3, scaled_all2_4, scaled_all2_5, scaled_all2_6,\n",
    "                    scaled_all3_1,scaled_all3_2, scaled_all3_3, scaled_all3_4, scaled_all3_5, scaled_all3_6,\n",
    "                    scaled_all4_1,scaled_all4_2, scaled_all4_3, scaled_all4_4, scaled_all4_5, scaled_all4_6,\n",
    "                    scaled_all5_1,scaled_all5_2, scaled_all5_3, scaled_all5_4, scaled_all5_5, scaled_all5_6,\n",
    "                    scaled_all6_1,scaled_all6_2, scaled_all6_3, scaled_all6_4, scaled_all6_5, scaled_all6_6,\n",
    "                    scaled_all7_1,scaled_all7_2, scaled_all7_3, scaled_all7_4, scaled_all7_5, scaled_all7_6,\n",
    "                    scaled_all8_1,scaled_all8_2, scaled_all8_3, scaled_all8_4, scaled_all8_5, scaled_all8_6,\n",
    "                    scaled_all9_1,scaled_all9_2, scaled_all9_3, scaled_all9_4, scaled_all9_5, scaled_all9_6,\n",
    "                    scaled_all10_1,scaled_all10_2, scaled_all10_3, scaled_all10_4, scaled_all10_5, scaled_all10_6,\n",
    "                    scaled_all11_1,scaled_all11_2, scaled_all11_3, scaled_all11_4, scaled_all11_5, scaled_all11_6,\n",
    "                    scaled_all12_1,scaled_all12_2, scaled_all12_3, scaled_all12_4, scaled_all12_5, scaled_all12_6,\n",
    "                    scaled_all13_1,scaled_all13_2, scaled_all13_3, scaled_all13_4, scaled_all13_5, scaled_all13_6,\n",
    "                    scaled_all14_1,scaled_all14_2, scaled_all14_3, scaled_all14_4, scaled_all14_5, scaled_all14_6,\n",
    "                    scaled_all15_1,scaled_all15_2, scaled_all15_3, scaled_all15_4, scaled_all15_5, scaled_all15_6,\n",
    "                    scaled_all16_1,scaled_all16_2, scaled_all16_3, scaled_all16_4, scaled_all16_5, scaled_all16_6,\n",
    "#                     scaled_all17_1,scaled_all17_2, scaled_all17_3, scaled_all17_4, scaled_all17_5, scaled_all17_6\n",
    "                    ]) \n",
    "\n"
   ]
  },
  {
   "cell_type": "code",
   "execution_count": 106,
   "metadata": {},
   "outputs": [],
   "source": [
    "# 증식 개수 조정 \n",
    "image_cnt =  35*all_dept.shape[0]  # 증식 데이터 개수 \n",
    "\n",
    "#PC값 조정\n",
    "pc_cnt = 20 # pc개수\n",
    "interval = -5\n",
    "\n",
    "\n",
    "# Generator 파라미터값 세부 조정 \n",
    "#=============================================================\n",
    "\n",
    "width_shift_range = 0.3 # 가로움직임\n",
    "height_shift_range =  0.3 # 세로움직임\n",
    "shear_range = 0.3 # 기울어짐 정도\n",
    "zoom_range = 0.3# 확대 비율\n",
    "fill_mode = \"nearest\" # 확대 시에 이미지가 깨지는 문제를 보정\n",
    "\n",
    "#=============================================================\n",
    "\n",
    "\n",
    "# PCA시드값 조정  # 함수에서 조정할것 .\n",
    "seed = 2"
   ]
  },
  {
   "cell_type": "code",
   "execution_count": 107,
   "metadata": {},
   "outputs": [],
   "source": [
    "#증식\n",
    "#======================================================================================\n",
    "all_dept_re1 = all_dept.reshape(all_dept.shape[0], \n",
    "                                all_dept.shape[1],\n",
    "                                all_dept.shape[2],\n",
    "                                1)\n",
    "\n",
    "# PCA 학습 대상 이미지 (== 증식대상 이미지)\n",
    "tmp = all_dept_re1\n",
    "\n",
    "\n",
    "# 생성할 이미지 \n",
    "input_image = tmp.copy()\n",
    "\n",
    "\n",
    "# 이미지를 생성시켜주는 모델 양식을 생성\n",
    "train_gen = ImageDataGenerator(\n",
    "#                               rescale=1.0/255, #rescale은 이미 진행했으니 필요없을듯 \n",
    "#                               rotation_range=5,  #회전각도\n",
    "                              width_shift_range=width_shift_range,  \n",
    "                              height_shift_range=height_shift_range,  \n",
    "                              shear_range=shear_range,  \n",
    "                              zoom_range = zoom_range,  \n",
    "                              fill_mode = fill_mode  \n",
    "                              )\n",
    "\n",
    "# 실제로 이미지를 생성\n",
    "train_generator=train_gen.flow(tmp.copy(),\n",
    "                               batch_size=1)\n",
    "\n",
    "\n",
    "for i in range(image_cnt):\n",
    "    image = train_generator.next()  \n",
    "    tmp = np.append(tmp.copy(), image, axis=0) \n",
    "    \n",
    "\n",
    "#======================================================================================="
   ]
  },
  {
   "cell_type": "code",
   "execution_count": 94,
   "metadata": {},
   "outputs": [],
   "source": [
    "#tmp 컴파일\n",
    "tmp_re = tmp.reshape(tmp.shape[0],-1)\n",
    "all_dept_re2 = all_dept.reshape(all_dept.shape[0],-1) "
   ]
  },
  {
   "cell_type": "code",
   "execution_count": 95,
   "metadata": {},
   "outputs": [],
   "source": [
    "#pca모델 생성\n",
    "all_dept_PCA_model =PCA(n_components=pc_cnt, random_state=2) # 강사"
   ]
  },
  {
   "cell_type": "code",
   "execution_count": 96,
   "metadata": {},
   "outputs": [],
   "source": [
    "#학습\n",
    "all_dept_PCA_model.fit(tmp_re) \n",
    "all_dept_trans = all_dept_PCA_model.transform(all_dept_re2)"
   ]
  },
  {
   "cell_type": "markdown",
   "metadata": {},
   "source": [
    "### 저장꾹"
   ]
  },
  {
   "cell_type": "code",
   "execution_count": 19,
   "metadata": {},
   "outputs": [
    {
     "data": {
      "text/plain": [
       "['edu_dept_trans']"
      ]
     },
     "execution_count": 19,
     "metadata": {},
     "output_type": "execute_result"
    }
   ],
   "source": [
    "joblib.dump(edu_dept_PCA_model,'edu_dept_PCA_model')\n",
    "joblib.dump(edu_dept_trans,'edu_dept_trans')"
   ]
  },
  {
   "cell_type": "code",
   "execution_count": 13,
   "metadata": {},
   "outputs": [
    {
     "data": {
      "text/plain": [
       "['edu_dept_trans1']"
      ]
     },
     "execution_count": 13,
     "metadata": {},
     "output_type": "execute_result"
    }
   ],
   "source": [
    "# nyh, ppk, psh 제외 (210,0.3) \n",
    "joblib.dump(edu_dept_PCA_model,'edu_dept_PCA_model1')\n",
    "joblib.dump(edu_dept_trans,'edu_dept_trans1')"
   ]
  },
  {
   "cell_type": "code",
   "execution_count": 63,
   "metadata": {},
   "outputs": [
    {
     "data": {
      "text/plain": [
       "['all_dept_trans']"
      ]
     },
     "execution_count": 63,
     "metadata": {},
     "output_type": "execute_result"
    }
   ],
   "source": [
    "# nyh, ppk, psh ,hhd, ksg제외 (210,0.3) \n",
    "joblib.dump(all_dept_PCA_model,'all_dept_PCA_model')\n",
    "joblib.dump(all_dept_trans,'all_dept_trans')"
   ]
  },
  {
   "cell_type": "code",
   "execution_count": 52,
   "metadata": {},
   "outputs": [
    {
     "data": {
      "text/plain": [
       "['all_dept_trans2']"
      ]
     },
     "execution_count": 52,
     "metadata": {},
     "output_type": "execute_result"
    }
   ],
   "source": [
    "joblib.dump(all_dept_PCA_model,'all_dept_PCA_model2') #pc=10 210 0.3\n",
    "joblib.dump(all_dept_trans,'all_dept_trans2')#pc=10 210 0.3"
   ]
  },
  {
   "cell_type": "code",
   "execution_count": 74,
   "metadata": {},
   "outputs": [
    {
     "data": {
      "text/plain": [
       "['all_dept_trans50']"
      ]
     },
     "execution_count": 74,
     "metadata": {},
     "output_type": "execute_result"
    }
   ],
   "source": [
    "joblib.dump(all_dept_PCA_model,'all_dept_PCA_model50') #pc=50 210 0.3\n",
    "joblib.dump(all_dept_trans,'all_dept_trans50')#pc=50 210 0.3"
   ]
  },
  {
   "cell_type": "code",
   "execution_count": 97,
   "metadata": {},
   "outputs": [
    {
     "data": {
      "text/plain": [
       "['all_dept_trans20_1']"
      ]
     },
     "execution_count": 97,
     "metadata": {},
     "output_type": "execute_result"
    }
   ],
   "source": [
    "joblib.dump(all_dept_PCA_model,'all_dept_PCA_model20_1') #pc=20 210 0.3 전원포함\n",
    "joblib.dump(all_dept_trans,'all_dept_trans20_1')         #pc=20 210 0.3 전원포함"
   ]
  },
  {
   "cell_type": "code",
   "execution_count": 100,
   "metadata": {},
   "outputs": [
    {
     "data": {
      "text/plain": [
       "['all_dept_trans20_2']"
      ]
     },
     "execution_count": 100,
     "metadata": {},
     "output_type": "execute_result"
    }
   ],
   "source": [
    "joblib.dump(all_dept_PCA_model,'all_dept_PCA_model20_2') #pc=20 장당 100장 0.3 전원포함\n",
    "joblib.dump(all_dept_trans,'all_dept_trans20_2')         #pc=20 장당 100장 0.3 전원포함"
   ]
  },
  {
   "cell_type": "code",
   "execution_count": 108,
   "metadata": {},
   "outputs": [
    {
     "data": {
      "text/plain": [
       "['all_dept_trans20_3']"
      ]
     },
     "execution_count": 108,
     "metadata": {},
     "output_type": "execute_result"
    }
   ],
   "source": [
    "joblib.dump(all_dept_PCA_model,'all_dept_PCA_model20_3') #pc=20 증식 35개 0.3 전원포함 >> khj 제외 \n",
    "joblib.dump(all_dept_trans,'all_dept_trans20_3')"
   ]
  },
  {
   "cell_type": "code",
   "execution_count": 109,
   "metadata": {},
   "outputs": [
    {
     "name": "stdout",
     "output_type": "stream",
     "text": [
      " * Serving Flask app \"__main__\" (lazy loading)\n",
      " * Environment: production\n",
      "   WARNING: This is a development server. Do not use it in a production deployment.\n",
      "   Use a production WSGI server instead.\n",
      " * Debug mode: off\n"
     ]
    },
    {
     "name": "stderr",
     "output_type": "stream",
     "text": [
      " * Running on http://127.0.0.1:5000/ (Press CTRL+C to quit)\n"
     ]
    }
   ],
   "source": [
    "from flask import Flask\n",
    "app = Flask(__name__)\n",
    "\n",
    "@app.route(\"/\")\n",
    "def hello():\n",
    "    return \"Hello World!\"\n",
    "\n",
    "if __name__ == \"__main__\":\n",
    "    app.run()"
   ]
  },
  {
   "cell_type": "code",
   "execution_count": null,
   "metadata": {},
   "outputs": [],
   "source": []
  }
 ],
 "metadata": {
  "kernelspec": {
   "display_name": "Python 3",
   "language": "python",
   "name": "python3"
  },
  "language_info": {
   "codemirror_mode": {
    "name": "ipython",
    "version": 3
   },
   "file_extension": ".py",
   "mimetype": "text/x-python",
   "name": "python",
   "nbconvert_exporter": "python",
   "pygments_lexer": "ipython3",
   "version": "3.6.12"
  }
 },
 "nbformat": 4,
 "nbformat_minor": 4
}
