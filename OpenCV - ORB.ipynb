{
 "cells": [
  {
   "cell_type": "markdown",
   "metadata": {},
   "source": [
    "BF매칭시도"
   ]
  },
  {
   "cell_type": "code",
   "execution_count": 3,
   "metadata": {},
   "outputs": [],
   "source": [
    "# library 가져오기 \n",
    "import cv2\n",
    "import matplotlib.pyplot as plt"
   ]
  },
  {
   "cell_type": "code",
   "execution_count": 4,
   "metadata": {},
   "outputs": [
    {
     "data": {
      "text/plain": [
       "<matplotlib.image.AxesImage at 0x25396c265c8>"
      ]
     },
     "execution_count": 4,
     "metadata": {},
     "output_type": "execute_result"
    },
    {
     "data": {
      "image/png": "[encoded data removed]",
      "text/plain": [
       "<Figure size 432x288 with 1 Axes>"
      ]
     },
     "metadata": {
      "needs_background": "light"
     },
     "output_type": "display_data"
    }
   ],
   "source": [
    "img1 = cv2.imread(\"./image/kim_ga.jpg\")\n",
    "plt.imshow(img1)"
   ]
  },
  {
   "cell_type": "code",
   "execution_count": 5,
   "metadata": {},
   "outputs": [],
   "source": [
    "img1 = cv2.imread(\"./image/kim_width.jpg\")\n",
    "img2 = cv2.imread(\"./image/park_width.jpg\")\n",
    "\n",
    "\n",
    "img1_gray = cv2.cvtColor(img1, cv2.COLOR_RGB2GRAY)\n",
    "img2_gray = cv2.cvtColor(img2, cv2.COLOR_RGB2GRAY)\n",
    "\n",
    "\n",
    "#특징점 찾기 \n",
    "orb = cv2.ORB_create()\n",
    "\n",
    "\n",
    "#kp : 특징점 위치, des : 특징점 기술자\n",
    "kp, des = orb.detectAndCompute(img1, None)\n",
    "\n",
    "\n",
    "img2 = img1.copy()\n",
    "for marker in kp:\n",
    "    img2 = cv2.drawMarker(img2, tuple(int(i) for i in marker.pt), \n",
    "                         markerType=3, markerSize=10, thickness=1,\n",
    "                         color=(0,0,255))\n",
    "\n",
    "\n",
    "cv2.imshow(\"orb\",img2)\n",
    "cv2.waitKey(0)\n",
    "cv2.destroyAllWindows()"
   ]
  },
  {
   "cell_type": "code",
   "execution_count": 13,
   "metadata": {},
   "outputs": [],
   "source": [
    "#이미지 가져오기\n",
    "img1 = cv2.imread(\"./image/kim_width.jpg\")\n",
    "img2 = cv2.imread(\"./image/park_width.jpg\")\n",
    "\n",
    "\n",
    "\n",
    "img1_gray = cv2.cvtColor(img1, cv2.COLOR_RGB2GRAY)\n",
    "img2_gray = cv2.cvtColor(img2, cv2.COLOR_RGB2GRAY)\n",
    "\n",
    "\n",
    "\n",
    "#각각의 특징점 찾기 \n",
    "\n",
    "orb = cv2.ORB_create()\n",
    "\n",
    "\n",
    "kp1, des1 = orb.detectAndCompute(img1_gray, None)\n",
    "kp2, des2 = orb.detectAndCompute(img2_gray, None)\n",
    "\n",
    "\n",
    "# 두개의 특징점들 간의 매칭을 계산한다. >> BF매칭 \n",
    "\n",
    "bf =cv2.BFMatcher(cv2.NORM_HAMMING, crossCheck=True)\n",
    "matches = bf.match(des1,des2)\n",
    "\n",
    "#매칭도별로 정렬 \n",
    "\n",
    "matches = sorted(matches, key = lambda x: x.distance) #매칭도는 거리값으로 나옴.\n",
    "\n",
    "res = cv2.drawMatches(img1_gray,\n",
    "                      kp1,\n",
    "                      img2_gray,\n",
    "                      kp2,\n",
    "                      matches[:30],\n",
    "                      None,\n",
    "                      singlePointColor=(0,255,0),matchColor=(255,0,0),\n",
    "                      flags=2 #1: 매칭이 안된점도 표시 2: 매칭된 점만 표시\n",
    "                     )\n",
    "\n",
    "cv2.imshow(\"orb\", res)\n",
    "cv2.waitKey(0)\n",
    "cv2.destroyAllWindows()"
   ]
  },
  {
   "cell_type": "markdown",
   "metadata": {},
   "source": [
    "### 매칭하지 못함."
   ]
  },
  {
   "cell_type": "code",
   "execution_count": null,
   "metadata": {},
   "outputs": [],
   "source": []
  }
 ],
 "metadata": {
  "kernelspec": {
   "display_name": "Python 3",
   "language": "python",
   "name": "python3"
  },
  "language_info": {
   "codemirror_mode": {
    "name": "ipython",
    "version": 3
   },
   "file_extension": ".py",
   "mimetype": "text/x-python",
   "name": "python",
   "nbconvert_exporter": "python",
   "pygments_lexer": "ipython3",
   "version": "3.7.9"
  }
 },
 "nbformat": 4,
 "nbformat_minor": 4
}
