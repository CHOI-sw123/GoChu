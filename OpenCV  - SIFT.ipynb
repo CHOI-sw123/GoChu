{
 "cells": [
  {
   "cell_type": "markdown",
   "metadata": {},
   "source": [
    "# Open CV 알고리즘 활용한 유사도 측정"
   ]
  },
  {
   "cell_type": "markdown",
   "metadata": {},
   "source": [
    "### 1.  SIFT 알고리즘 특징추출 "
   ]
  },
  {
   "cell_type": "code",
   "execution_count": null,
   "metadata": {},
   "outputs": [],
   "source": [
    "import cv2\n",
    "import numpy as np\n",
    "import matplotlib.pyplot as plt"
   ]
  },
  {
   "cell_type": "code",
   "execution_count": 14,
   "metadata": {},
   "outputs": [
    {
     "name": "stdout",
     "output_type": "stream",
     "text": [
      "image1 descriptor(원본): 136\n",
      "DMache number : 64\n",
      "Good number : 0\n",
      "최소 거리값 : 204, 최대 거리값 :422\n",
      "유사도 : 0.0\n"
     ]
    }
   ],
   "source": [
    " # 1. 이미지 가져오기 \n",
    "choi = cv2.imread('./image/choi_sent.jpg',cv2.IMREAD_GRAYSCALE) # queryImage\n",
    "park = cv2.imread('./Image/park_sent.jpg',cv2.IMREAD_GRAYSCALE) # trainImage\n",
    "kim = cv2.imread('./Image/kim_sent.jpg',cv2.IMREAD_GRAYSCALE) \n",
    "jung = cv2.imread('./Image/jung_sent.jpg',cv2.IMREAD_GRAYSCALE)  \n",
    "\n",
    "\n",
    "img1 = choi #origin , #queryImage\n",
    "img2 = jung # trainImage\n",
    "\n",
    "\n",
    "res= None\n",
    "\n",
    "sift = cv2.xfeatures2d.SIFT_create()\n",
    "\n",
    "    # 2. 이미지 특성 추출\n",
    "kp1, des1 = sift.detectAndCompute(img1, None) #특징 분석하고 뽑아냄. \n",
    "kp2, des2 = sift.detectAndCompute(img2, None)\n",
    "\n",
    "\n",
    "    # 3. 두 이미지 매치 수행\n",
    "bf = cv2.BFMatcher(cv2.NORM_L2, crossCheck = True)\n",
    "matches = bf.match(des1,des2)   # bf를 통한 이미지 특징 매치.\n",
    "                                # 비슷한 애들끼리 매칭되는 것 같다. \n",
    "\n",
    "    \n",
    "\n",
    "    # 4. 특징이 유사한 녀석들 저장\n",
    "\n",
    "good_match=[] # 유사성이 높은 DMach 객체를 저장할 리스트\n",
    "\n",
    "# 두이미지간 유사하게 매치되는 descriptor 중 distance가 10보다 적은 \n",
    "# descriptor 를 추출하고, distance 값이 적을수록 두 descriptor 간 유사성이 높다.\n",
    "for m in matches:\n",
    "        if  m.distance<10:\n",
    "            good_match.append(m)\n",
    "\n",
    "\n",
    "# distance를 기준으로 matches 정렬\n",
    "matches = sorted(matches, key=lambda x:x.distance)\n",
    "\n",
    "\n",
    "\n",
    "print(\"image1 descriptor(원본): %d\"%(len(des1))) # img1 의 descriptor 의 개수\n",
    "print(\"DMache number : %d\"%(len(matches))) # DMatch 개수 \n",
    "print(\"Good number : %d\"%(len(good_match))) #매치되는 descriptor중 distance가 10보다 작은 descriptor 개수 \n",
    "print(\"최소 거리값 : %d, 최대 거리값 :%d\"% #Dmatch distance의 min,max값.\n",
    "     (matches[0].distance, matches[len(matches)-1].distance))\n",
    "\n",
    "print(\"유사도 : %0.1f\"%(len(good_match)/len(matches)))\n",
    "\n",
    "#Matches의 속성\n",
    "# distance : 두개의 descriptor 간의 거리 .낮을수록 더 유사한 descriptor임\n",
    "# trainldx : 원본(trainImage) 이미지의 descriptor 인덱스\n",
    "# queryldx : 비교대상(queryImage)이미지의 descriptor인덱스\n",
    "# imgldx : 원본(trainImage) 이미지의 인덱스\n",
    "\n",
    "#유사성 높은 descriptor 이미지에 표시 \n",
    "res = cv2.drawMatches(img1,kp1, img2, kp2, matches[:1000],\n",
    "                      res, flags=cv2.DrawMatchesFlags_DRAW_RICH_KEYPOINTS)\n",
    "\n",
    "# img2 = cv2.drawKeypoints(imgray, kp, img2)\n",
    "# img3 = cv2.drawKeypoints(imgray, kp, img3,\n",
    "#                          flags=cv2.DRAW_MATCHES_FLAGS_DRAW_RICH_KEYPOINTS)\n",
    "    \n",
    "# cv2.imshow('SIFT1', img2)\n",
    "cv2.imshow('Feature Matching', res)\n",
    "cv2.waitKey(0)\n",
    "cv2.destroyAllWindows()\n",
    "\n",
    "\n",
    "# 거리가 10이하면 보통 유사하다고 판별 할 수 있다. \n",
    "# 정확도가 너무 너무 낮음.\n"
   ]
  },
  {
   "cell_type": "code",
   "execution_count": null,
   "metadata": {},
   "outputs": [],
   "source": [
    "# 관련 참고링크 \n",
    "\n",
    "# https://m.blog.naver.com/samsjang/220657424078\n",
    "# https://m.blog.naver.com/simjk98/221876261306"
   ]
  },
  {
   "cell_type": "code",
   "execution_count": null,
   "metadata": {},
   "outputs": [],
   "source": [
    "# 이미지 자체로 인식하기 때문에 \n",
    "# 글자의 초중종성에 따른 구분이 불가능함 따라서 OPENCV는 힘들다는 결론."
   ]
  }
 ],
 "metadata": {
  "kernelspec": {
   "display_name": "Python 3",
   "language": "python",
   "name": "python3"
  },
  "language_info": {
   "codemirror_mode": {
    "name": "ipython",
    "version": 3
   },
   "file_extension": ".py",
   "mimetype": "text/x-python",
   "name": "python",
   "nbconvert_exporter": "python",
   "pygments_lexer": "ipython3",
   "version": "3.7.9"
  }
 },
 "nbformat": 4,
 "nbformat_minor": 4
}
